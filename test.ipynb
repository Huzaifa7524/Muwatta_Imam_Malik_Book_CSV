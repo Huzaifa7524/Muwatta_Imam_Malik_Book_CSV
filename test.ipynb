{
 "cells": [
  {
   "cell_type": "code",
   "execution_count": 6,
   "metadata": {},
   "outputs": [],
   "source": [
    "import pandas as pd"
   ]
  },
  {
   "cell_type": "code",
   "execution_count": 7,
   "metadata": {},
   "outputs": [
    {
     "data": {
      "text/html": [
       "<div>\n",
       "<style scoped>\n",
       "    .dataframe tbody tr th:only-of-type {\n",
       "        vertical-align: middle;\n",
       "    }\n",
       "\n",
       "    .dataframe tbody tr th {\n",
       "        vertical-align: top;\n",
       "    }\n",
       "\n",
       "    .dataframe thead th {\n",
       "        text-align: right;\n",
       "    }\n",
       "</style>\n",
       "<table border=\"1\" class=\"dataframe\">\n",
       "  <thead>\n",
       "    <tr style=\"text-align: right;\">\n",
       "      <th></th>\n",
       "      <th>Chapter Title</th>\n",
       "      <th>English Hadith</th>\n",
       "      <th>Hadith Reference</th>\n",
       "    </tr>\n",
       "  </thead>\n",
       "  <tbody>\n",
       "    <tr>\n",
       "      <th>0</th>\n",
       "      <td>The Times of Prayer</td>\n",
       "      <td>He said, \"Yahya ibn Yahya al-Laythi related to...</td>\n",
       "      <td>Arabic/English book reference : Book 1, Hadith 1</td>\n",
       "    </tr>\n",
       "    <tr>\n",
       "      <th>1</th>\n",
       "      <td>The Times of Prayer</td>\n",
       "      <td>Urwa said that A'isha, the wife of the Prophet...</td>\n",
       "      <td>Arabic/English book reference : Book 1, Hadith 2</td>\n",
       "    </tr>\n",
       "    <tr>\n",
       "      <th>2</th>\n",
       "      <td>The Times of Prayer</td>\n",
       "      <td>Yahya related to me from Malik from Zayd ibn A...</td>\n",
       "      <td>Arabic/English book reference : Book 1, Hadith 3</td>\n",
       "    </tr>\n",
       "    <tr>\n",
       "      <th>3</th>\n",
       "      <td>The Times of Prayer</td>\n",
       "      <td>Yahya related to me from Malik from Yahya ibn ...</td>\n",
       "      <td>Arabic/English book reference : Book 1, Hadith 4</td>\n",
       "    </tr>\n",
       "    <tr>\n",
       "      <th>4</th>\n",
       "      <td>The Times of Prayer</td>\n",
       "      <td>Yahya related to me from Malik from Zayd ibn A...</td>\n",
       "      <td>Arabic/English book reference : Book 1, Hadith 5</td>\n",
       "    </tr>\n",
       "  </tbody>\n",
       "</table>\n",
       "</div>"
      ],
      "text/plain": [
       "         Chapter Title                                     English Hadith  \\\n",
       "0  The Times of Prayer  He said, \"Yahya ibn Yahya al-Laythi related to...   \n",
       "1  The Times of Prayer  Urwa said that A'isha, the wife of the Prophet...   \n",
       "2  The Times of Prayer  Yahya related to me from Malik from Zayd ibn A...   \n",
       "3  The Times of Prayer  Yahya related to me from Malik from Yahya ibn ...   \n",
       "4  The Times of Prayer  Yahya related to me from Malik from Zayd ibn A...   \n",
       "\n",
       "                                   Hadith Reference  \n",
       "0  Arabic/English book reference : Book 1, Hadith 1  \n",
       "1  Arabic/English book reference : Book 1, Hadith 2  \n",
       "2  Arabic/English book reference : Book 1, Hadith 3  \n",
       "3  Arabic/English book reference : Book 1, Hadith 4  \n",
       "4  Arabic/English book reference : Book 1, Hadith 5  "
      ]
     },
     "execution_count": 7,
     "metadata": {},
     "output_type": "execute_result"
    }
   ],
   "source": [
    "df = pd.read_csv('Muwatta.csv', encoding='latin-1')\n",
    "df.head()"
   ]
  },
  {
   "cell_type": "code",
   "execution_count": 8,
   "metadata": {},
   "outputs": [
    {
     "name": "stderr",
     "output_type": "stream",
     "text": [
      "C:\\Users\\Huzaifa Tahir\\AppData\\Local\\Temp\\ipykernel_12544\\4209343599.py:1: DeprecationWarning: `import pandas_profiling` is going to be deprecated by April 1st. Please use `import ydata_profiling` instead.\n",
      "  from pandas_profiling import ProfileReport\n"
     ]
    },
    {
     "data": {
      "application/vnd.jupyter.widget-view+json": {
       "model_id": "3ecc08c72f5440fe8224d10075582ffe",
       "version_major": 2,
       "version_minor": 0
      },
      "text/plain": [
       "Summarize dataset:   0%|          | 0/5 [00:00<?, ?it/s]"
      ]
     },
     "metadata": {},
     "output_type": "display_data"
    },
    {
     "data": {
      "application/vnd.jupyter.widget-view+json": {
       "model_id": "6b9dcb28f83c4e34be05b1ba7b329842",
       "version_major": 2,
       "version_minor": 0
      },
      "text/plain": [
       "Generate report structure:   0%|          | 0/1 [00:00<?, ?it/s]"
      ]
     },
     "metadata": {},
     "output_type": "display_data"
    },
    {
     "data": {
      "application/vnd.jupyter.widget-view+json": {
       "model_id": "283cfbdf97cd455a8af08cce2e575e0f",
       "version_major": 2,
       "version_minor": 0
      },
      "text/plain": [
       "Render HTML:   0%|          | 0/1 [00:00<?, ?it/s]"
      ]
     },
     "metadata": {},
     "output_type": "display_data"
    },
    {
     "data": {
      "application/vnd.jupyter.widget-view+json": {
       "model_id": "92db04e6b907441bb6dd020a407b9636",
       "version_major": 2,
       "version_minor": 0
      },
      "text/plain": [
       "Export report to file:   0%|          | 0/1 [00:00<?, ?it/s]"
      ]
     },
     "metadata": {},
     "output_type": "display_data"
    }
   ],
   "source": [
    "from pandas_profiling import ProfileReport\n",
    "prof = ProfileReport(df)\n",
    "prof.to_file(output_file='output.html')"
   ]
  }
 ],
 "metadata": {
  "kernelspec": {
   "display_name": "Python 3",
   "language": "python",
   "name": "python3"
  },
  "language_info": {
   "codemirror_mode": {
    "name": "ipython",
    "version": 3
   },
   "file_extension": ".py",
   "mimetype": "text/x-python",
   "name": "python",
   "nbconvert_exporter": "python",
   "pygments_lexer": "ipython3",
   "version": "3.9.7"
  },
  "orig_nbformat": 4
 },
 "nbformat": 4,
 "nbformat_minor": 2
}
